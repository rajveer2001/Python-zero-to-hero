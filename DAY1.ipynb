{
  "nbformat": 4,
  "nbformat_minor": 0,
  "metadata": {
    "colab": {
      "name": "DAY1.ipynb",
      "provenance": [],
      "collapsed_sections": [],
      "authorship_tag": "ABX9TyNElt7Y67vZRB8ioKAWgLS4",
      "include_colab_link": true
    },
    "kernelspec": {
      "name": "python3",
      "display_name": "Python 3"
    },
    "language_info": {
      "name": "python"
    }
  },
  "cells": [
    {
      "cell_type": "markdown",
      "metadata": {
        "id": "view-in-github",
        "colab_type": "text"
      },
      "source": [
        "<a href=\"https://colab.research.google.com/github/rajveer2001/Python-zero-to-hero/blob/main/DAY1.ipynb\" target=\"_parent\"><img src=\"https://colab.research.google.com/assets/colab-badge.svg\" alt=\"Open In Colab\"/></a>"
      ]
    },
    {
      "cell_type": "code",
      "metadata": {
        "colab": {
          "base_uri": "https://localhost:8080/"
        },
        "id": "mIOP_NOccJcV",
        "outputId": "1360f993-f9d9-446b-8792-44c0187aca97"
      },
      "source": [
        "print(\"HELLO WORLD\")\n",
        "\n",
        "e = '''hi'''\n",
        "print(type(e))\n",
        "\n",
        "print(e)\n",
        "\n",
        "a = b = c = 10\n",
        "print(a)\n",
        "print(b)\n",
        "print(c)\n"
      ],
      "execution_count": null,
      "outputs": [
        {
          "output_type": "stream",
          "text": [
            "HELLO WORLD\n",
            "<class 'str'>\n",
            "hi\n",
            "10\n",
            "10\n",
            "10\n"
          ],
          "name": "stdout"
        }
      ]
    },
    {
      "cell_type": "code",
      "metadata": {
        "colab": {
          "base_uri": "https://localhost:8080/"
        },
        "id": "rvU_WuBMdhRe",
        "outputId": "251be74c-851e-4f01-a0f6-03248a0b9837"
      },
      "source": [
        "a = b = c = 10\n",
        "print(a, end = \" \")\n",
        "print(b, end = ' ')\n",
        "print(c)\n",
        "\n",
        "print(a, b, c)"
      ],
      "execution_count": null,
      "outputs": [
        {
          "output_type": "stream",
          "text": [
            "10 10 10\n",
            "10 10 10\n"
          ],
          "name": "stdout"
        }
      ]
    },
    {
      "cell_type": "code",
      "metadata": {
        "colab": {
          "base_uri": "https://localhost:8080/"
        },
        "id": "c6F1CXdkimyK",
        "outputId": "1e764cc2-1f37-45bf-884e-0e1a0a5e0ec9"
      },
      "source": [
        "a, b, c = 10, 20, 30\n",
        "print(a, b, c)\n",
        "print(a,b,c)\n",
        "\n",
        "a = int(input('Enter first value:'))\n",
        "b = int(input('Enter second value:'))\n",
        "c = a + b\n",
        "print(f'sum: {c}')"
      ],
      "execution_count": null,
      "outputs": [
        {
          "output_type": "stream",
          "text": [
            "10 20 30\n",
            "10 20 30\n",
            "Enter first value:1\n",
            "Enter second value:1\n",
            "sum: 2\n"
          ],
          "name": "stdout"
        }
      ]
    },
    {
      "cell_type": "code",
      "metadata": {
        "colab": {
          "base_uri": "https://localhost:8080/"
        },
        "id": "x028RyaVjN1R",
        "outputId": "6ccfedae-0192-4a0e-fe3c-5b5f8cbc8566"
      },
      "source": [
        "li = [10, 20.5, \"hello\", 40]\n",
        "print(li)\n",
        "print(type(li))\n",
        "print(li[2])"
      ],
      "execution_count": null,
      "outputs": [
        {
          "output_type": "stream",
          "text": [
            "[10, 20.5, 'hello', 40]\n",
            "<class 'list'>\n",
            "hello\n"
          ],
          "name": "stdout"
        }
      ]
    },
    {
      "cell_type": "code",
      "metadata": {
        "colab": {
          "base_uri": "https://localhost:8080/"
        },
        "id": "yDaE8gwpn39X",
        "outputId": "0fd202b1-48d9-4f9d-d9d4-de280041b76e"
      },
      "source": [
        "li = [2, 4, 6, 8,]\n",
        "print(li)\n",
        "\n",
        "print(1 in li)\n",
        "print(2 in li)\n",
        "\n",
        "print(li * 11)\n",
        "\n",
        "for i in li:\n",
        "  print(i)"
      ],
      "execution_count": null,
      "outputs": [
        {
          "output_type": "stream",
          "text": [
            "[2, 4, 6, 8]\n",
            "False\n",
            "True\n",
            "[2, 4, 6, 8, 2, 4, 6, 8, 2, 4, 6, 8, 2, 4, 6, 8, 2, 4, 6, 8, 2, 4, 6, 8, 2, 4, 6, 8, 2, 4, 6, 8, 2, 4, 6, 8, 2, 4, 6, 8, 2, 4, 6, 8]\n",
            "2\n",
            "4\n",
            "6\n",
            "8\n"
          ],
          "name": "stdout"
        }
      ]
    },
    {
      "cell_type": "code",
      "metadata": {
        "colab": {
          "base_uri": "https://localhost:8080/"
        },
        "id": "G3dgbal4o3cE",
        "outputId": "037e11ae-7bd2-453f-8c3b-7e0bb99284ae"
      },
      "source": [
        "li = [1, 2, 3]\n",
        "print(li)\n",
        "\n",
        "li[0] = 20\n",
        "print(li)\n",
        "\n"
      ],
      "execution_count": null,
      "outputs": [
        {
          "output_type": "stream",
          "text": [
            "[1, 2, 3]\n",
            "[20, 2, 3]\n"
          ],
          "name": "stdout"
        }
      ]
    },
    {
      "cell_type": "code",
      "metadata": {
        "id": "qmsTI42oqFPx"
      },
      "source": [
        ""
      ],
      "execution_count": null,
      "outputs": []
    }
  ]
}